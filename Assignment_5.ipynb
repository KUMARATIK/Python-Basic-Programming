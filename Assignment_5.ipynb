{
 "cells": [
  {
   "cell_type": "markdown",
   "id": "65c0c0ea",
   "metadata": {},
   "source": [
    "1.\tWrite a Python Program to Find LCM?"
   ]
  },
  {
   "cell_type": "code",
   "execution_count": 5,
   "id": "84a79f5b",
   "metadata": {},
   "outputs": [
    {
     "name": "stdout",
     "output_type": "stream",
     "text": [
      "Enter first number:- 12\n",
      "Enter second number:- 8\n",
      "The L.C.M. is  24\n"
     ]
    }
   ],
   "source": [
    "num1 = int(input(\"Enter first number:- \"))\n",
    "num2 = int(input(\"Enter second number:- \"))\n",
    "def compute_lcm(num1, num2):\n",
    "    greater = max(num1,num2)\n",
    "    while(True):\n",
    "        if((greater % num1 == 0) and (greater % num2 == 0)):\n",
    "            lcm = greater\n",
    "            break\n",
    "        greater += 1\n",
    "    return lcm\n",
    "print(\"The L.C.M. is \", compute_lcm(num1,num2))"
   ]
  },
  {
   "cell_type": "markdown",
   "id": "e4756d77",
   "metadata": {},
   "source": [
    "2.\tWrite a Python Program to Find HCF?"
   ]
  },
  {
   "cell_type": "code",
   "execution_count": 13,
   "id": "0c59b19f",
   "metadata": {},
   "outputs": [
    {
     "name": "stdout",
     "output_type": "stream",
     "text": [
      "Enter first number:- 15\n",
      "Enter second number:- 20\n",
      "The H.C.F. is 5\n"
     ]
    }
   ],
   "source": [
    "num1 = int(input(\"Enter first number:- \"))\n",
    "num2 = int(input(\"Enter second number:- \"))\n",
    "def compute_hcf(num1, num2):\n",
    "    lesser = min(num1,num2)\n",
    "    \n",
    "    for i in range(1,lesser+1):\n",
    "        if((num1 % i == 0) and (num2 % i == 0)):\n",
    "            hcf = i\n",
    "    return hcf\n",
    "\n",
    "print(\"The H.C.F. is\", compute_hcf(num1, num2))"
   ]
  },
  {
   "cell_type": "markdown",
   "id": "abbe5cc1",
   "metadata": {},
   "source": [
    "3.\tWrite a Python Program to Convert Decimal to Binary, Octal and Hexadecimal?"
   ]
  },
  {
   "cell_type": "code",
   "execution_count": 14,
   "id": "3aa083d8",
   "metadata": {},
   "outputs": [
    {
     "name": "stdout",
     "output_type": "stream",
     "text": [
      "Enter a Decimal number344\n",
      "344  in Binary is:-  0b101011000\n",
      "344  in Octal is:-  0o530\n",
      "344  in Hexadecimal is:-  0x158\n"
     ]
    }
   ],
   "source": [
    "dec = int(input(\"Enter a Decimal number\"))\n",
    "print(dec,\" in Binary is:- \", bin(dec))\n",
    "print(dec,\" in Octal is:- \", oct(dec))\n",
    "print(dec,\" in Hexadecimal is:- \", hex(dec))"
   ]
  },
  {
   "cell_type": "markdown",
   "id": "456aaf79",
   "metadata": {},
   "source": [
    "4.\tWrite a Python Program To Find ASCII value of a character?"
   ]
  },
  {
   "cell_type": "code",
   "execution_count": 16,
   "id": "b3e1482a",
   "metadata": {},
   "outputs": [
    {
     "name": "stdout",
     "output_type": "stream",
     "text": [
      "Enter a character:- p\n",
      "The ASCII value of p is 112\n"
     ]
    }
   ],
   "source": [
    "character = input(\"Enter a character:- \")\n",
    "print(\"The ASCII value of\", character, \"is\",ord(character))"
   ]
  },
  {
   "cell_type": "markdown",
   "id": "5c01dbfb",
   "metadata": {},
   "source": [
    "5.\tWrite a Python Program to Make a Simple Calculator with 4 basic mathematical operations?"
   ]
  },
  {
   "cell_type": "code",
   "execution_count": 19,
   "id": "92844689",
   "metadata": {},
   "outputs": [
    {
     "name": "stdout",
     "output_type": "stream",
     "text": [
      "Select operation\n",
      "1. Add\n",
      "2. Subtract\n",
      "3. Multiply\n",
      "4. Divide\n",
      "Enter choice(1/2/3/4): 5\n",
      "Invalid Input\n",
      "Enter choice(1/2/3/4): 4\n",
      "Enter first number:- 5\n",
      "Enter second number:- -6\n",
      "5 / -6 = -0.8333333333333334\n",
      "let's do next calculation? (yes/no):yes\n",
      "Enter choice(1/2/3/4): 1\n",
      "Enter first number:- -9\n",
      "Enter second number:- -9\n",
      "-9 + -9 = -18\n",
      "let's do next calculation? (yes/no):no\n"
     ]
    }
   ],
   "source": [
    "def add(x, y):\n",
    "    return x+y\n",
    "def subtract(x, y):\n",
    "    return x-y\n",
    "def multiply(x, y):\n",
    "    return x*y\n",
    "def divide(x, y):\n",
    "    return x/y\n",
    "print(\"Select operation\")\n",
    "print(\"1. Add\")\n",
    "print(\"2. Subtract\")\n",
    "print(\"3. Multiply\")\n",
    "print(\"4. Divide\")\n",
    "while True:\n",
    "    choice = input(\"Enter choice(1/2/3/4): \")\n",
    "    if choice in ('1','2','3','4'):\n",
    "        num1 = int(input(\"Enter first number:- \"))\n",
    "        num2 = int(input(\"Enter second number:- \"))\n",
    "        if choice == '1':\n",
    "            print(num1, '+', num2, '=', add(num1, num2))\n",
    "        elif choice == '2':\n",
    "            print(num1, '-', num2, '=', subtract(num1, num2))\n",
    "        elif choice == '3':\n",
    "            print(num1, '*', num2, '=', multiply(num1, num2))\n",
    "        if choice == '4':\n",
    "            print(num1, '/', num2, '=', divide(num1, num2))\n",
    "        next_calculation = input(\"let's do next calculation? (yes/no):\")\n",
    "        if next_calculation == \"no\":\n",
    "            break\n",
    "    else:\n",
    "        print(\"Invalid Input\")"
   ]
  },
  {
   "cell_type": "code",
   "execution_count": null,
   "id": "cfd632cc",
   "metadata": {},
   "outputs": [],
   "source": []
  }
 ],
 "metadata": {
  "kernelspec": {
   "display_name": "Python 3",
   "language": "python",
   "name": "python3"
  },
  "language_info": {
   "codemirror_mode": {
    "name": "ipython",
    "version": 3
   },
   "file_extension": ".py",
   "mimetype": "text/x-python",
   "name": "python",
   "nbconvert_exporter": "python",
   "pygments_lexer": "ipython3",
   "version": "3.8.8"
  }
 },
 "nbformat": 4,
 "nbformat_minor": 5
}
