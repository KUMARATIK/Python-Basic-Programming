{
 "cells": [
  {
   "cell_type": "markdown",
   "id": "8649c7a4",
   "metadata": {},
   "source": [
    "1.\tWrite a Python program to convert kilometers to miles?"
   ]
  },
  {
   "cell_type": "code",
   "execution_count": 3,
   "id": "b0f77017",
   "metadata": {},
   "outputs": [
    {
     "name": "stdout",
     "output_type": "stream",
     "text": [
      "Enter value in kilometer:- 12\n",
      "12.00 kilometers is equal to 7.46 miles\n"
     ]
    }
   ],
   "source": [
    "km = float(input(\"Enter value in kilometer:- \"))\n",
    "conv_fact = 0.621371\n",
    "miles = km*conv_fact\n",
    "print('%0.2f kilometers is equal to %0.2f miles' %(km,miles))"
   ]
  },
  {
   "cell_type": "markdown",
   "id": "157dec26",
   "metadata": {},
   "source": [
    "2.Write a Python program to convert Celsius to Fahrenheit?"
   ]
  },
  {
   "cell_type": "code",
   "execution_count": 6,
   "id": "cdea1acb",
   "metadata": {},
   "outputs": [
    {
     "name": "stdout",
     "output_type": "stream",
     "text": [
      "Enter temperature in celsius:- 37.5\n",
      "37.5 99.5\n"
     ]
    }
   ],
   "source": [
    "Celsius = float(input(\"Enter temperature in celsius:- \"))\n",
    "Fahrenheit = (Celsius*1.8)+32\n",
    "print(Celsius, Fahrenheit)"
   ]
  },
  {
   "cell_type": "markdown",
   "id": "b891be92",
   "metadata": {},
   "source": [
    "3.\tWrite a Python program to display calendar?"
   ]
  },
  {
   "cell_type": "code",
   "execution_count": 7,
   "id": "696d0846",
   "metadata": {},
   "outputs": [
    {
     "name": "stdout",
     "output_type": "stream",
     "text": [
      "Enter the year:-2022\n",
      "Enter the month:-4\n",
      "     April 2022\n",
      "Mo Tu We Th Fr Sa Su\n",
      "             1  2  3\n",
      " 4  5  6  7  8  9 10\n",
      "11 12 13 14 15 16 17\n",
      "18 19 20 21 22 23 24\n",
      "25 26 27 28 29 30\n",
      "\n"
     ]
    }
   ],
   "source": [
    "import calendar\n",
    "YY = int(input(\"Enter the year:-\"))\n",
    "MM = int(input(\"Enter the month:-\"))\n",
    "print(calendar.month(YY, MM))"
   ]
  },
  {
   "cell_type": "markdown",
   "id": "c4768144",
   "metadata": {},
   "source": [
    "4.\tWrite a Python program to solve quadratic equation?"
   ]
  },
  {
   "cell_type": "code",
   "execution_count": 12,
   "id": "f42fac39",
   "metadata": {},
   "outputs": [
    {
     "name": "stdout",
     "output_type": "stream",
     "text": [
      "Enter any number:- 2\n",
      "Enter any number:- 4\n",
      "Enter any number:- 1\n",
      "The solution are (-1.7071067811865475+0j) and (-0.2928932188134524+0j)\n"
     ]
    }
   ],
   "source": [
    "import cmath\n",
    "a = int(input(\"Enter any number:- \"))\n",
    "b = int(input(\"Enter any number:- \"))\n",
    "c = int(input(\"Enter any number:- \"))\n",
    "d = (b**2)-(4*a*c)\n",
    "s1 = (-b-cmath.sqrt(d))/(2*a)\n",
    "s2 = (-b+cmath.sqrt(d))/(2*a)\n",
    "print(s1, s2)"
   ]
  },
  {
   "cell_type": "markdown",
   "id": "a87f70b9",
   "metadata": {},
   "source": [
    "5.\tWrite a Python program to swap two variables without temp variable?"
   ]
  },
  {
   "cell_type": "code",
   "execution_count": 13,
   "id": "639a9070",
   "metadata": {},
   "outputs": [
    {
     "name": "stdout",
     "output_type": "stream",
     "text": [
      "Enter any number:- 12\n",
      "Enter any number:- 11\n",
      "after swaping X :-  11\n",
      "after swaping y :-  12\n"
     ]
    }
   ],
   "source": [
    "x = int(input(\"Enter any number:- \"))\n",
    "y = int(input(\"Enter any number:- \"))\n",
    "x, y = y, x\n",
    "print(\"after swaping X :- \", x)\n",
    "print(\"after swaping y :- \", y)"
   ]
  },
  {
   "cell_type": "code",
   "execution_count": null,
   "id": "9f07fb47",
   "metadata": {},
   "outputs": [],
   "source": []
  }
 ],
 "metadata": {
  "kernelspec": {
   "display_name": "Python 3",
   "language": "python",
   "name": "python3"
  },
  "language_info": {
   "codemirror_mode": {
    "name": "ipython",
    "version": 3
   },
   "file_extension": ".py",
   "mimetype": "text/x-python",
   "name": "python",
   "nbconvert_exporter": "python",
   "pygments_lexer": "ipython3",
   "version": "3.8.8"
  }
 },
 "nbformat": 4,
 "nbformat_minor": 5
}
