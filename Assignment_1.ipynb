{
 "cells": [
  {
   "cell_type": "markdown",
   "id": "7346b6bf",
   "metadata": {},
   "source": [
    "1.\tWrite a Python program to print \"Hello Python\"?"
   ]
  },
  {
   "cell_type": "code",
   "execution_count": 1,
   "id": "05d5e9a1",
   "metadata": {},
   "outputs": [
    {
     "name": "stdout",
     "output_type": "stream",
     "text": [
      "Hello Python\n"
     ]
    }
   ],
   "source": [
    "print(\"Hello Python\")"
   ]
  },
  {
   "cell_type": "markdown",
   "id": "ba6cf53e",
   "metadata": {},
   "source": [
    "2.\tWrite a Python program to do arithmetical operations addition and division.?"
   ]
  },
  {
   "cell_type": "code",
   "execution_count": 3,
   "id": "cbb43db0",
   "metadata": {},
   "outputs": [
    {
     "name": "stdout",
     "output_type": "stream",
     "text": [
      "Enter any integer:- 12\n",
      "Enter any integer:- 3\n",
      "15\n",
      "4.0\n"
     ]
    }
   ],
   "source": [
    "a = int(input(\"Enter any integer:- \"))\n",
    "b = int(input(\"Enter any integer:- \"))\n",
    "add = a+b\n",
    "division = a/b\n",
    "print(add)\n",
    "print(division)"
   ]
  },
  {
   "cell_type": "markdown",
   "id": "484aa5bd",
   "metadata": {},
   "source": [
    "3.\tWrite a Python program to find the area of a triangle?"
   ]
  },
  {
   "cell_type": "code",
   "execution_count": 5,
   "id": "cacfc264",
   "metadata": {},
   "outputs": [
    {
     "name": "stdout",
     "output_type": "stream",
     "text": [
      "Enter first side:- 5\n",
      "Enter second side:- 5\n",
      "Enter third side:- 5\n",
      "10.825317547305483\n"
     ]
    }
   ],
   "source": [
    "a = float(input(\"Enter first side:- \"))\n",
    "b = float(input(\"Enter second side:- \"))\n",
    "c = float(input(\"Enter third side:- \"))\n",
    "\n",
    "s = (a+b+c)/2\n",
    "area = (s*(s-a)*(s-b)*(s-c))**0.5\n",
    "print(area)"
   ]
  },
  {
   "cell_type": "markdown",
   "id": "9449d8ed",
   "metadata": {},
   "source": [
    "4.\tWrite a Python program to swap two variables?"
   ]
  },
  {
   "cell_type": "code",
   "execution_count": 9,
   "id": "089f9304",
   "metadata": {},
   "outputs": [
    {
     "name": "stdout",
     "output_type": "stream",
     "text": [
      "Enter any integer:- 12\n",
      "Enter any integer:- 11\n",
      "value of a after swap:- 11\n",
      "value of b after swap:- 12\n"
     ]
    }
   ],
   "source": [
    "a = int(input(\"Enter any integer:- \"))\n",
    "b = int(input(\"Enter any integer:- \"))\n",
    "temp = a\n",
    "a = b\n",
    "b = temp\n",
    "print(\"value of a after swap:-\", a)\n",
    "print(\"value of b after swap:-\", b)"
   ]
  },
  {
   "cell_type": "markdown",
   "id": "d52fbe89",
   "metadata": {},
   "source": [
    "5.\tWrite a Python program to generate a random number?"
   ]
  },
  {
   "cell_type": "code",
   "execution_count": 13,
   "id": "f4c28475",
   "metadata": {},
   "outputs": [
    {
     "name": "stdout",
     "output_type": "stream",
     "text": [
      "0.40988048817390876\n"
     ]
    }
   ],
   "source": [
    "import random\n",
    "n = random.random()\n",
    "print(n)"
   ]
  },
  {
   "cell_type": "code",
   "execution_count": null,
   "id": "1eb4c4a0",
   "metadata": {},
   "outputs": [],
   "source": []
  }
 ],
 "metadata": {
  "kernelspec": {
   "display_name": "Python 3",
   "language": "python",
   "name": "python3"
  },
  "language_info": {
   "codemirror_mode": {
    "name": "ipython",
    "version": 3
   },
   "file_extension": ".py",
   "mimetype": "text/x-python",
   "name": "python",
   "nbconvert_exporter": "python",
   "pygments_lexer": "ipython3",
   "version": "3.8.8"
  }
 },
 "nbformat": 4,
 "nbformat_minor": 5
}
